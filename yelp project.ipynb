{
 "cells": [
  {
   "cell_type": "code",
   "execution_count": 0,
   "metadata": {
    "application/vnd.databricks.v1+cell": {
     "cellMetadata": {
      "byteLimit": 2048000,
      "rowLimit": 10000
     },
     "inputWidgets": {},
     "nuid": "779dc8cf-3e54-49ba-b20a-02be2cbb9935",
     "showTitle": false,
     "title": ""
    }
   },
   "outputs": [],
   "source": [
    "from pyspark.sql import SparkSession\n",
    "from pyspark.sql.functions import col, explode\n",
    "from pyspark.sql.functions import array, coalesce, explode_outer\n",
    "from pyspark.sql import functions as F\n",
    "from pyspark.sql.types import IntegerType, FloatType, DateType\n",
    "from pyspark.sql.functions import current_date, lit, when\n",
    "from pyspark.sql.functions import struct\n",
    "from pyspark.sql.functions import desc, rank\n",
    "from pyspark.sql.window import Window\n",
    "from pyspark.sql.functions import col, count, rank\n",
    "\n",
    "\n",
    "# Initialize Spark session\n",
    "spark = SparkSession.builder.getOrCreate()"
   ]
  },
  {
   "cell_type": "code",
   "execution_count": 0,
   "metadata": {
    "application/vnd.databricks.v1+cell": {
     "cellMetadata": {
      "byteLimit": 2048000,
      "rowLimit": 10000
     },
     "inputWidgets": {},
     "nuid": "761a6de9-8f4f-4136-8836-d0b18c8a4c25",
     "showTitle": false,
     "title": ""
    }
   },
   "outputs": [
    {
     "output_type": "stream",
     "name": "stdout",
     "output_type": "stream",
     "text": [
      "dbfs:/FileStore/shared_uploads/caidanni@seattleu.edu/yelp_academic_dataset_business.json\ndbfs:/FileStore/shared_uploads/caidanni@seattleu.edu/yelp_academic_dataset_checkin.json\ndbfs:/FileStore/shared_uploads/caidanni@seattleu.edu/yelp_academic_dataset_review.json\ndbfs:/FileStore/shared_uploads/caidanni@seattleu.edu/yelp_academic_dataset_tip.json\ndbfs:/FileStore/shared_uploads/caidanni@seattleu.edu/yelp_academic_dataset_user.json\ndbfs:/FileStore/shared_uploads/caidanni@seattleu.edu/yelpbronze/\ndbfs:/FileStore/shared_uploads/caidanni@seattleu.edu/yelpbronze1/\ndbfs:/FileStore/shared_uploads/caidanni@seattleu.edu/yelpoutput/\ndbfs:/FileStore/shared_uploads/caidanni@seattleu.edu/yelpoutput1/\ndbfs:/FileStore/shared_uploads/caidanni@seattleu.edu/yelpoutput2/\ndbfs:/FileStore/shared_uploads/caidanni@seattleu.edu/yelsliver/\n"
     ]
    }
   ],
   "source": [
    "# List the contents of the target directory\n",
    "files = dbutils.fs.ls(\"/FileStore/shared_uploads/caidanni@seattleu.edu/\")\n",
    "\n",
    "# Print the file paths\n",
    "for file in files:\n",
    "    print(file.path)\n"
   ]
  },
  {
   "cell_type": "code",
   "execution_count": 0,
   "metadata": {
    "application/vnd.databricks.v1+cell": {
     "cellMetadata": {
      "byteLimit": 2048000,
      "rowLimit": 10000
     },
     "inputWidgets": {},
     "nuid": "676e4ec1-3abd-477f-836e-14b4cc9d2e37",
     "showTitle": false,
     "title": ""
    }
   },
   "outputs": [],
   "source": [
    "# Define file paths in DBFS\n",
    "review_file_path = \"dbfs:/FileStore/shared_uploads/caidanni@seattleu.edu/yelp_academic_dataset_review.json\"\n",
    "checkin_file_path = \"dbfs:/FileStore/shared_uploads/caidanni@seattleu.edu/yelp_academic_dataset_checkin.json\"\n",
    "business_file_path = \"dbfs:/FileStore/shared_uploads/caidanni@seattleu.edu/yelp_academic_dataset_business.json\"\n",
    "user_file_path = \"dbfs:/FileStore/shared_uploads/caidanni@seattleu.edu/yelp_academic_dataset_user.json\"\n",
    "tip_file_path= \"dbfs:/FileStore/shared_uploads/caidanni@seattleu.edu/yelp_academic_dataset_tip.json\"\n",
    "\n"
   ]
  },
  {
   "cell_type": "code",
   "execution_count": 0,
   "metadata": {
    "application/vnd.databricks.v1+cell": {
     "cellMetadata": {
      "byteLimit": 2048000,
      "rowLimit": 10000
     },
     "inputWidgets": {},
     "nuid": "8c9229b0-033c-432f-907f-31f4c0b223e5",
     "showTitle": false,
     "title": ""
    }
   },
   "outputs": [],
   "source": [
    "# Read JSON files into DataFrames\n",
    "review_df = spark.read.json(review_file_path)\n",
    "checkin_df = spark.read.json(checkin_file_path)\n",
    "business_df = spark.read.json(business_file_path)\n",
    "user_df = spark.read.json(user_file_path)\n",
    "tip_df = spark.read.json(tip_file_path)"
   ]
  },
  {
   "cell_type": "code",
   "execution_count": 0,
   "metadata": {
    "application/vnd.databricks.v1+cell": {
     "cellMetadata": {
      "byteLimit": 2048000,
      "rowLimit": 10000
     },
     "inputWidgets": {},
     "nuid": "026ba865-4d97-4079-a9a0-987ca73f2254",
     "showTitle": false,
     "title": ""
    }
   },
   "outputs": [
    {
     "output_type": "stream",
     "name": "stdout",
     "output_type": "stream",
     "text": [
      "+--------------------+----------+--------------------+-----+--------------------+------+--------------------+---------+\n|         business_id|      date|           review_id|stars|                text|  type|             user_id|    votes|\n+--------------------+----------+--------------------+-----+--------------------+------+--------------------+---------+\n|9yKzy9PApeiPPOUJE...|2011-01-26|fWKvX83p0-ka4JS3d...|    5|My wife took me h...|review|rLtl8ZkDX5vH5nAx9...|{2, 0, 5}|\n|ZRJwVLyzEJq1VAihD...|2011-07-27|IjZ33sJrzXqU-0X6U...|    5|I have no idea wh...|review|0a2KyEL0d3Yb1V6ai...|{0, 0, 0}|\n|6oRAC4uyJCsJl1X0W...|2012-06-14|IESLBzqUCLdSzSqm0...|    4|love the gyro pla...|review|0hT2KtfLiobPvh6cD...|{0, 0, 1}|\n|_1QQZuf4zZOyFCvXc...|2010-05-27|G-WvGaISbqqaMHlNn...|    5|Rosie, Dakota, an...|review|uZetl9T0NcROGOyFf...|{1, 0, 2}|\n|6ozycU1RpktNG2-1B...|2012-01-05|1uJFq2r5QfJG_6ExM...|    5|General Manager S...|review|vYmM4KTsC8ZfQBg-j...|{0, 0, 0}|\n+--------------------+----------+--------------------+-----+--------------------+------+--------------------+---------+\nonly showing top 5 rows\n\nroot\n |-- business_id: string (nullable = true)\n |-- date: string (nullable = true)\n |-- review_id: string (nullable = true)\n |-- stars: long (nullable = true)\n |-- text: string (nullable = true)\n |-- type: string (nullable = true)\n |-- user_id: string (nullable = true)\n |-- votes: struct (nullable = true)\n |    |-- cool: long (nullable = true)\n |    |-- funny: long (nullable = true)\n |    |-- useful: long (nullable = true)\n\n"
     ]
    }
   ],
   "source": [
    "# Display 5 rows for dataset and print schema for each dataset\n",
    "review_df.show(5)\n",
    "review_df.printSchema()"
   ]
  },
  {
   "cell_type": "code",
   "execution_count": 0,
   "metadata": {
    "application/vnd.databricks.v1+cell": {
     "cellMetadata": {
      "byteLimit": 2048000,
      "rowLimit": 10000
     },
     "inputWidgets": {},
     "nuid": "31732a6e-b0b1-4c17-8825-a54395849728",
     "showTitle": false,
     "title": ""
    }
   },
   "outputs": [
    {
     "output_type": "stream",
     "name": "stdout",
     "output_type": "stream",
     "text": [
      "+--------------------+--------------------+-------+\n|         business_id|        checkin_info|   type|\n+--------------------+--------------------+-------+\n|KO9CpaSPOoqm0iCWm...|{NULL, NULL, NULL...|checkin|\n|oRqBAYtcBYZHXA7G8...|{3, NULL, NULL, N...|checkin|\n|6cy2C9aBXUwkrh4bY...|{NULL, NULL, 1, N...|checkin|\n|D0IB17N66FiyYDCzT...|{NULL, NULL, NULL...|checkin|\n|HLQGo3EaYVvAv22bO...|{NULL, NULL, NULL...|checkin|\n+--------------------+--------------------+-------+\nonly showing top 5 rows\n\nroot\n |-- business_id: string (nullable = true)\n |-- checkin_info: struct (nullable = true)\n |    |-- 0-0: long (nullable = true)\n |    |-- 0-1: long (nullable = true)\n |    |-- 0-2: long (nullable = true)\n |    |-- 0-3: long (nullable = true)\n |    |-- 0-4: long (nullable = true)\n |    |-- 0-5: long (nullable = true)\n |    |-- 0-6: long (nullable = true)\n |    |-- 1-0: long (nullable = true)\n |    |-- 1-1: long (nullable = true)\n |    |-- 1-2: long (nullable = true)\n |    |-- 1-3: long (nullable = true)\n |    |-- 1-4: long (nullable = true)\n |    |-- 1-5: long (nullable = true)\n |    |-- 1-6: long (nullable = true)\n |    |-- 10-0: long (nullable = true)\n |    |-- 10-1: long (nullable = true)\n |    |-- 10-2: long (nullable = true)\n |    |-- 10-3: long (nullable = true)\n |    |-- 10-4: long (nullable = true)\n |    |-- 10-5: long (nullable = true)\n |    |-- 10-6: long (nullable = true)\n |    |-- 11-0: long (nullable = true)\n |    |-- 11-1: long (nullable = true)\n |    |-- 11-2: long (nullable = true)\n |    |-- 11-3: long (nullable = true)\n |    |-- 11-4: long (nullable = true)\n |    |-- 11-5: long (nullable = true)\n |    |-- 11-6: long (nullable = true)\n |    |-- 12-0: long (nullable = true)\n |    |-- 12-1: long (nullable = true)\n |    |-- 12-2: long (nullable = true)\n |    |-- 12-3: long (nullable = true)\n |    |-- 12-4: long (nullable = true)\n |    |-- 12-5: long (nullable = true)\n |    |-- 12-6: long (nullable = true)\n |    |-- 13-0: long (nullable = true)\n |    |-- 13-1: long (nullable = true)\n |    |-- 13-2: long (nullable = true)\n |    |-- 13-3: long (nullable = true)\n |    |-- 13-4: long (nullable = true)\n |    |-- 13-5: long (nullable = true)\n |    |-- 13-6: long (nullable = true)\n |    |-- 14-0: long (nullable = true)\n |    |-- 14-1: long (nullable = true)\n |    |-- 14-2: long (nullable = true)\n |    |-- 14-3: long (nullable = true)\n |    |-- 14-4: long (nullable = true)\n |    |-- 14-5: long (nullable = true)\n |    |-- 14-6: long (nullable = true)\n |    |-- 15-0: long (nullable = true)\n |    |-- 15-1: long (nullable = true)\n |    |-- 15-2: long (nullable = true)\n |    |-- 15-3: long (nullable = true)\n |    |-- 15-4: long (nullable = true)\n |    |-- 15-5: long (nullable = true)\n |    |-- 15-6: long (nullable = true)\n |    |-- 16-0: long (nullable = true)\n |    |-- 16-1: long (nullable = true)\n |    |-- 16-2: long (nullable = true)\n |    |-- 16-3: long (nullable = true)\n |    |-- 16-4: long (nullable = true)\n |    |-- 16-5: long (nullable = true)\n |    |-- 16-6: long (nullable = true)\n |    |-- 17-0: long (nullable = true)\n |    |-- 17-1: long (nullable = true)\n |    |-- 17-2: long (nullable = true)\n |    |-- 17-3: long (nullable = true)\n |    |-- 17-4: long (nullable = true)\n |    |-- 17-5: long (nullable = true)\n |    |-- 17-6: long (nullable = true)\n |    |-- 18-0: long (nullable = true)\n |    |-- 18-1: long (nullable = true)\n |    |-- 18-2: long (nullable = true)\n |    |-- 18-3: long (nullable = true)\n |    |-- 18-4: long (nullable = true)\n |    |-- 18-5: long (nullable = true)\n |    |-- 18-6: long (nullable = true)\n |    |-- 19-0: long (nullable = true)\n |    |-- 19-1: long (nullable = true)\n |    |-- 19-2: long (nullable = true)\n |    |-- 19-3: long (nullable = true)\n |    |-- 19-4: long (nullable = true)\n |    |-- 19-5: long (nullable = true)\n |    |-- 19-6: long (nullable = true)\n |    |-- 2-0: long (nullable = true)\n |    |-- 2-1: long (nullable = true)\n |    |-- 2-2: long (nullable = true)\n |    |-- 2-3: long (nullable = true)\n |    |-- 2-4: long (nullable = true)\n |    |-- 2-5: long (nullable = true)\n |    |-- 2-6: long (nullable = true)\n |    |-- 20-0: long (nullable = true)\n |    |-- 20-1: long (nullable = true)\n |    |-- 20-2: long (nullable = true)\n |    |-- 20-3: long (nullable = true)\n |    |-- 20-4: long (nullable = true)\n |    |-- 20-5: long (nullable = true)\n |    |-- 20-6: long (nullable = true)\n |    |-- 21-0: long (nullable = true)\n |    |-- 21-1: long (nullable = true)\n |    |-- 21-2: long (nullable = true)\n |    |-- 21-3: long (nullable = true)\n |    |-- 21-4: long (nullable = true)\n |    |-- 21-5: long (nullable = true)\n |    |-- 21-6: long (nullable = true)\n |    |-- 22-0: long (nullable = true)\n |    |-- 22-1: long (nullable = true)\n |    |-- 22-2: long (nullable = true)\n |    |-- 22-3: long (nullable = true)\n |    |-- 22-4: long (nullable = true)\n |    |-- 22-5: long (nullable = true)\n |    |-- 22-6: long (nullable = true)\n |    |-- 23-0: long (nullable = true)\n |    |-- 23-1: long (nullable = true)\n |    |-- 23-2: long (nullable = true)\n |    |-- 23-3: long (nullable = true)\n |    |-- 23-4: long (nullable = true)\n |    |-- 23-5: long (nullable = true)\n |    |-- 23-6: long (nullable = true)\n |    |-- 3-0: long (nullable = true)\n |    |-- 3-1: long (nullable = true)\n |    |-- 3-2: long (nullable = true)\n |    |-- 3-3: long (nullable = true)\n |    |-- 3-4: long (nullable = true)\n |    |-- 3-5: long (nullable = true)\n |    |-- 3-6: long (nullable = true)\n |    |-- 4-0: long (nullable = true)\n |    |-- 4-1: long (nullable = true)\n |    |-- 4-2: long (nullable = true)\n |    |-- 4-3: long (nullable = true)\n |    |-- 4-4: long (nullable = true)\n |    |-- 4-5: long (nullable = true)\n |    |-- 4-6: long (nullable = true)\n |    |-- 5-0: long (nullable = true)\n |    |-- 5-1: long (nullable = true)\n |    |-- 5-2: long (nullable = true)\n |    |-- 5-3: long (nullable = true)\n |    |-- 5-4: long (nullable = true)\n |    |-- 5-5: long (nullable = true)\n |    |-- 5-6: long (nullable = true)\n |    |-- 6-0: long (nullable = true)\n |    |-- 6-1: long (nullable = true)\n |    |-- 6-2: long (nullable = true)\n |    |-- 6-3: long (nullable = true)\n |    |-- 6-4: long (nullable = true)\n |    |-- 6-5: long (nullable = true)\n |    |-- 6-6: long (nullable = true)\n |    |-- 7-0: long (nullable = true)\n |    |-- 7-1: long (nullable = true)\n |    |-- 7-2: long (nullable = true)\n |    |-- 7-3: long (nullable = true)\n |    |-- 7-4: long (nullable = true)\n |    |-- 7-5: long (nullable = true)\n |    |-- 7-6: long (nullable = true)\n |    |-- 8-0: long (nullable = true)\n |    |-- 8-1: long (nullable = true)\n |    |-- 8-2: long (nullable = true)\n |    |-- 8-3: long (nullable = true)\n |    |-- 8-4: long (nullable = true)\n |    |-- 8-5: long (nullable = true)\n |    |-- 8-6: long (nullable = true)\n |    |-- 9-0: long (nullable = true)\n |    |-- 9-1: long (nullable = true)\n |    |-- 9-2: long (nullable = true)\n |    |-- 9-3: long (nullable = true)\n |    |-- 9-4: long (nullable = true)\n |    |-- 9-5: long (nullable = true)\n |    |-- 9-6: long (nullable = true)\n |-- type: string (nullable = true)\n\n"
     ]
    }
   ],
   "source": [
    "checkin_df.show(5)\n",
    "checkin_df.printSchema()"
   ]
  },
  {
   "cell_type": "code",
   "execution_count": 0,
   "metadata": {
    "application/vnd.databricks.v1+cell": {
     "cellMetadata": {
      "byteLimit": 2048000,
      "rowLimit": 10000
     },
     "inputWidgets": {},
     "nuid": "3ae26d24-1df2-495a-92f4-1002d1f0ae42",
     "showTitle": false,
     "title": ""
    }
   },
   "outputs": [
    {
     "output_type": "stream",
     "name": "stdout",
     "output_type": "stream",
     "text": [
      "+--------------------+--------------------+------+--------------------+---------+-----------+--------------------+-------------+----+------------+-----+-----+--------+\n|         business_id|          categories|  city|        full_address| latitude|  longitude|                name|neighborhoods|open|review_count|stars|state|    type|\n+--------------------+--------------------+------+--------------------+---------+-----------+--------------------+-------------+----+------------+-----+-----+--------+\n|rncjoVoEFUJGCUoC1...|[Accountants, Pro...|Peoria|8466 W Peoria Ave...|33.581867|-112.241596|Peoria Income Tax...|           []|true|           3|  5.0|   AZ|business|\n+--------------------+--------------------+------+--------------------+---------+-----------+--------------------+-------------+----+------------+-----+-----+--------+\nonly showing top 1 row\n\nroot\n |-- business_id: string (nullable = true)\n |-- categories: array (nullable = true)\n |    |-- element: string (containsNull = true)\n |-- city: string (nullable = true)\n |-- full_address: string (nullable = true)\n |-- latitude: double (nullable = true)\n |-- longitude: double (nullable = true)\n |-- name: string (nullable = true)\n |-- neighborhoods: array (nullable = true)\n |    |-- element: string (containsNull = true)\n |-- open: boolean (nullable = true)\n |-- review_count: long (nullable = true)\n |-- stars: double (nullable = true)\n |-- state: string (nullable = true)\n |-- type: string (nullable = true)\n\n"
     ]
    }
   ],
   "source": [
    "business_df.show(1)\n",
    "business_df.printSchema()"
   ]
  },
  {
   "cell_type": "code",
   "execution_count": 0,
   "metadata": {
    "application/vnd.databricks.v1+cell": {
     "cellMetadata": {
      "byteLimit": 2048000,
      "rowLimit": 10000
     },
     "inputWidgets": {},
     "nuid": "0bd80691-f457-4cc9-9c01-e53ea036e07a",
     "showTitle": false,
     "title": ""
    }
   },
   "outputs": [
    {
     "output_type": "stream",
     "name": "stdout",
     "output_type": "stream",
     "text": [
      "+-------------+---------+------------+----+--------------------+---------+\n|average_stars|     name|review_count|type|             user_id|    votes|\n+-------------+---------+------------+----+--------------------+---------+\n|          5.0|      Jim|           6|user|CR2y7yEm4X035ZMzr...|{0, 0, 7}|\n|          1.0|    Kelle|           2|user|_9GXoHhdxc30ujPaQ...|{0, 0, 1}|\n|          5.0|Stephanie|           2|user|8mM-nqxjg6pT04kwc...|{0, 0, 1}|\n|          5.0|        T|           2|user|Ch6CdTR2IVaVANr-R...|{0, 0, 2}|\n|          1.0|     Beth|           1|user|NZrLmHRyiHmyT1Jrf...|{0, 0, 0}|\n+-------------+---------+------------+----+--------------------+---------+\nonly showing top 5 rows\n\nroot\n |-- average_stars: double (nullable = true)\n |-- name: string (nullable = true)\n |-- review_count: long (nullable = true)\n |-- type: string (nullable = true)\n |-- user_id: string (nullable = true)\n |-- votes: struct (nullable = true)\n |    |-- cool: long (nullable = true)\n |    |-- funny: long (nullable = true)\n |    |-- useful: long (nullable = true)\n\n"
     ]
    }
   ],
   "source": [
    "user_df.show(5)\n",
    "user_df.printSchema()"
   ]
  },
  {
   "cell_type": "code",
   "execution_count": 0,
   "metadata": {
    "application/vnd.databricks.v1+cell": {
     "cellMetadata": {
      "byteLimit": 2048000,
      "rowLimit": 10000
     },
     "inputWidgets": {},
     "nuid": "441ecac9-284b-44f5-a380-b4fe9114abf1",
     "showTitle": false,
     "title": ""
    }
   },
   "outputs": [
    {
     "output_type": "stream",
     "name": "stdout",
     "output_type": "stream",
     "text": [
      "+--------------------+----------+-----+--------------------+----+--------------------+\n|         business_id|      date|likes|                text|type|             user_id|\n+--------------------+----------+-----+--------------------+----+--------------------+\n|cE27W9VPgO88Qxe4o...|2013-04-18|    0|Don't waste your ...| tip|-6rEfobYjMxpUWLNx...|\n|mVHrayjG3uZ_RLHkL...|2013-01-06|    0|Your GPS will not...| tip|EZ0r9dKKtEGVx2Cdn...|\n|KayYbHCt-RkbGcPdG...|2013-12-03|    0|Great drink speci...| tip|xb6zEQCw9I-Gl0g06...|\n|wJr6kSA5dchdgOdwH...|2013-07-22|    0|Sarah rocks! Best...| tip|fvTivrsJoUMYXnOJw...|\n|fNGIbpazjTRdXgwRY...|2013-04-22|    0|Decent selection ...| tip|6GrH6gp09pqYykGv8...|\n+--------------------+----------+-----+--------------------+----+--------------------+\nonly showing top 5 rows\n\nroot\n |-- business_id: string (nullable = true)\n |-- date: string (nullable = true)\n |-- likes: long (nullable = true)\n |-- text: string (nullable = true)\n |-- type: string (nullable = true)\n |-- user_id: string (nullable = true)\n\n"
     ]
    }
   ],
   "source": [
    "tip_df.show(5)\n",
    "tip_df.printSchema()"
   ]
  },
  {
   "cell_type": "code",
   "execution_count": 0,
   "metadata": {
    "application/vnd.databricks.v1+cell": {
     "cellMetadata": {
      "byteLimit": 2048000,
      "rowLimit": 10000
     },
     "inputWidgets": {},
     "nuid": "7a0c5fb8-6bce-4d7b-b169-f626d6765bbb",
     "showTitle": false,
     "title": ""
    }
   },
   "outputs": [
    {
     "output_type": "stream",
     "name": "stdout",
     "output_type": "stream",
     "text": [
      "+--------------------+----------+--------------------+-----+--------------------+------+--------------------+----------+-----------+------------+\n|         business_id|      date|           review_id|stars|                text|  type|             user_id|votes_cool|votes_funny|votes_useful|\n+--------------------+----------+--------------------+-----+--------------------+------+--------------------+----------+-----------+------------+\n|9yKzy9PApeiPPOUJE...|2011-01-26|fWKvX83p0-ka4JS3d...|    5|My wife took me h...|review|rLtl8ZkDX5vH5nAx9...|         2|          0|           5|\n|ZRJwVLyzEJq1VAihD...|2011-07-27|IjZ33sJrzXqU-0X6U...|    5|I have no idea wh...|review|0a2KyEL0d3Yb1V6ai...|         0|          0|           0|\n|6oRAC4uyJCsJl1X0W...|2012-06-14|IESLBzqUCLdSzSqm0...|    4|love the gyro pla...|review|0hT2KtfLiobPvh6cD...|         0|          0|           1|\n|_1QQZuf4zZOyFCvXc...|2010-05-27|G-WvGaISbqqaMHlNn...|    5|Rosie, Dakota, an...|review|uZetl9T0NcROGOyFf...|         1|          0|           2|\n|6ozycU1RpktNG2-1B...|2012-01-05|1uJFq2r5QfJG_6ExM...|    5|General Manager S...|review|vYmM4KTsC8ZfQBg-j...|         0|          0|           0|\n+--------------------+----------+--------------------+-----+--------------------+------+--------------------+----------+-----------+------------+\nonly showing top 5 rows\n\n"
     ]
    }
   ],
   "source": [
    "###Flattern each dataset\n",
    "##review_df\n",
    "\n",
    "flat_review_df = review_df.select(\n",
    "    \"business_id\",\n",
    "    \"date\",\n",
    "    \"review_id\",\n",
    "    \"stars\",\n",
    "    \"text\",\n",
    "    \"type\",\n",
    "    \"user_id\",\n",
    "    col(\"votes.cool\").alias(\"votes_cool\"),\n",
    "    col(\"votes.funny\").alias(\"votes_funny\"),\n",
    "    col(\"votes.useful\").alias(\"votes_useful\")\n",
    ")\n",
    "flat_review_df.show(5)\n"
   ]
  },
  {
   "cell_type": "code",
   "execution_count": 0,
   "metadata": {
    "application/vnd.databricks.v1+cell": {
     "cellMetadata": {
      "byteLimit": 2048000,
      "rowLimit": 10000
     },
     "inputWidgets": {},
     "nuid": "a208fce1-404a-4b5b-80ff-f808ec26d132",
     "showTitle": false,
     "title": ""
    }
   },
   "outputs": [
    {
     "output_type": "stream",
     "name": "stdout",
     "output_type": "stream",
     "text": [
      "+--------------------+----+----+----+----+----+---+----+----+----+----+----+----+----+---+----+----+----+----+----+----+----+----+----+----+----+----+----+----+----+----+----+----+----+----+----+----+----+----+----+----+----+----+----+----+----+----+----+----+----+----+----+----+----+----+----+----+----+----+----+----+----+---+----+----+----+----+----+---+---+---+----+----+----+----+----+----+----+----+----+----+----+----+----+----+----+----+----+----+----+----+----+----+----+----+----+----+----+----+----+----+----+----+----+----+----+----+----+----+----+----+----+----+----+----+----+----+----+----+----+----+----+----+----+----+----+----+----+----+----+----+----+----+----+----+----+----+----+----+----+----+----+----+----+----+----+----+----+----+----+----+----+----+----+----+----+----+----+----+----+----+----+----+----+----+----+----+----+----+\n|         business_id| 0-0| 0-1| 0-2| 0-3| 0-4|0-5| 0-6| 1-0| 1-1| 1-2| 1-3| 1-4| 1-5|1-6| 2-0| 2-1| 2-2| 2-3| 2-4| 2-5| 2-6| 3-0| 3-1| 3-2| 3-3| 3-4| 3-5| 3-6| 4-0| 4-1| 4-2| 4-3| 4-4| 4-5| 4-6| 5-0| 5-1| 5-2| 5-3| 5-4| 5-5| 5-6| 6-0| 6-1| 6-2| 6-3| 6-4| 6-5| 6-6| 7-0| 7-1| 7-2| 7-3| 7-4| 7-5| 7-6| 8-0| 8-1| 8-2| 8-3| 8-4|8-5| 8-6| 9-0| 9-1| 9-2| 9-3|9-4|9-5|9-6|10-0|10-1|10-2|10-3|10-4|10-5|10-6|11-0|11-1|11-2|11-3|11-4|11-5|11-6|12-0|12-1|12-2|12-3|12-4|12-5|12-6|13-0|13-1|13-2|13-3|13-4|13-5|13-6|14-0|14-1|14-2|14-3|14-4|14-5|14-6|15-0|15-1|15-2|15-3|15-4|15-5|15-6|16-0|16-1|16-2|16-3|16-4|16-5|16-6|17-0|17-1|17-2|17-3|17-4|17-5|17-6|18-0|18-1|18-2|18-3|18-4|18-5|18-6|19-0|19-1|19-2|19-3|19-4|19-5|19-6|20-0|20-1|20-2|20-3|20-4|20-5|20-6|21-0|21-1|21-2|21-3|21-4|21-5|21-6|22-0|22-1|22-2|22-3|22-4|22-5|22-6|23-0|23-1|23-2|23-3|23-4|23-5|23-6|\n+--------------------+----+----+----+----+----+---+----+----+----+----+----+----+----+---+----+----+----+----+----+----+----+----+----+----+----+----+----+----+----+----+----+----+----+----+----+----+----+----+----+----+----+----+----+----+----+----+----+----+----+----+----+----+----+----+----+----+----+----+----+----+----+---+----+----+----+----+----+---+---+---+----+----+----+----+----+----+----+----+----+----+----+----+----+----+----+----+----+----+----+----+----+----+----+----+----+----+----+----+----+----+----+----+----+----+----+----+----+----+----+----+----+----+----+----+----+----+----+----+----+----+----+----+----+----+----+----+----+----+----+----+----+----+----+----+----+----+----+----+----+----+----+----+----+----+----+----+----+----+----+----+----+----+----+----+----+----+----+----+----+----+----+----+----+----+----+----+----+----+\n|KO9CpaSPOoqm0iCWm...|NULL|NULL|NULL|NULL|NULL|  1|NULL|NULL|NULL|NULL|NULL|NULL|NULL|  1|NULL|NULL|NULL|NULL|NULL|NULL|NULL|NULL|NULL|NULL|NULL|NULL|NULL|NULL|NULL|NULL|NULL|NULL|NULL|NULL|NULL|NULL|NULL|NULL|NULL|NULL|NULL|NULL|NULL|NULL|NULL|NULL|NULL|NULL|NULL|NULL|NULL|NULL|NULL|NULL|NULL|NULL|NULL|NULL|NULL|NULL|NULL|  1|NULL|NULL|NULL|NULL|NULL|  1|  2|  4|   3|   4|   4|   4|   1|   2|   2|   3|  18|   9|  17|  11|   3|   6|  20|  14|  12|  19|   8|   5|   5|NULL|   1|   6|   1|NULL|   4|   5|   2|   2|NULL|   2|   1|   3|   6|   2|NULL|NULL|   2|NULL|   2|NULL|NULL|   1|NULL|   1|NULL|   1|NULL|NULL|NULL|NULL|NULL|NULL|NULL|NULL|NULL|NULL|NULL|NULL|NULL|NULL|NULL|NULL|NULL|NULL|NULL|NULL|NULL|NULL|NULL|   1|NULL|NULL|NULL|NULL|NULL|NULL|NULL|NULL|NULL|NULL|NULL|NULL|NULL|NULL|NULL|NULL|NULL|NULL|NULL|NULL|NULL|NULL|NULL|NULL|NULL|NULL|\n+--------------------+----+----+----+----+----+---+----+----+----+----+----+----+----+---+----+----+----+----+----+----+----+----+----+----+----+----+----+----+----+----+----+----+----+----+----+----+----+----+----+----+----+----+----+----+----+----+----+----+----+----+----+----+----+----+----+----+----+----+----+----+----+---+----+----+----+----+----+---+---+---+----+----+----+----+----+----+----+----+----+----+----+----+----+----+----+----+----+----+----+----+----+----+----+----+----+----+----+----+----+----+----+----+----+----+----+----+----+----+----+----+----+----+----+----+----+----+----+----+----+----+----+----+----+----+----+----+----+----+----+----+----+----+----+----+----+----+----+----+----+----+----+----+----+----+----+----+----+----+----+----+----+----+----+----+----+----+----+----+----+----+----+----+----+----+----+----+----+----+\nonly showing top 1 row\n\n"
     ]
    }
   ],
   "source": [
    "# Flatten checkin_df\n",
    "# Define a list of column names for the checkin hours (0-0, 0-1, ..., 23-6)\n",
    "checkin_hours = [f\"{i}-{j}\" for i in range(24) for j in range(7)]\n",
    "\n",
    "# Select the business_id and the individual checkin hour columns\n",
    "flat_checkin_df = checkin_df.select(\"business_id\", *[col(f\"checkin_info.{hour}\").alias(hour) for hour in checkin_hours])\n",
    "\n",
    "# Show the result\n",
    "flat_checkin_df.show(1)\n",
    "\n",
    "\n"
   ]
  },
  {
   "cell_type": "code",
   "execution_count": 0,
   "metadata": {
    "application/vnd.databricks.v1+cell": {
     "cellMetadata": {
      "byteLimit": 2048000,
      "rowLimit": 10000
     },
     "inputWidgets": {},
     "nuid": "af14130a-7876-4d1b-9741-92018c114753",
     "showTitle": false,
     "title": ""
    }
   },
   "outputs": [],
   "source": [
    "#drop the useless information: checkin_infor\n",
    "# Select only the business_id column\n",
    "#flat_checkin_df = flat_checkin_df.select(\"business_id\")\n",
    "\n",
    "# Show the updated DataFrame schema\n",
    "#flat_checkin_df.printSchema()\n",
    "#flat_checkin_df.show(5)"
   ]
  },
  {
   "cell_type": "code",
   "execution_count": 0,
   "metadata": {
    "application/vnd.databricks.v1+cell": {
     "cellMetadata": {
      "byteLimit": 2048000,
      "rowLimit": 10000
     },
     "inputWidgets": {},
     "nuid": "012e94f0-168a-49a1-9f0d-b58276fc0210",
     "showTitle": false,
     "title": ""
    }
   },
   "outputs": [
    {
     "output_type": "stream",
     "name": "stdout",
     "output_type": "stream",
     "text": [
      "+--------------------+-------+--------------------+---------+-----------+--------------------+----+------------+-----+-----+--------+--------------------+------------+\n|         business_id|   city|        full_address| latitude|  longitude|                name|open|review_count|stars|state|    type|            category|neighborhood|\n+--------------------+-------+--------------------+---------+-----------+--------------------+----+------------+-----+-----+--------+--------------------+------------+\n|rncjoVoEFUJGCUoC1...| Peoria|8466 W Peoria Ave...|33.581867|-112.241596|Peoria Income Tax...|true|           3|  5.0|   AZ|business|         Accountants|        NULL|\n|rncjoVoEFUJGCUoC1...| Peoria|8466 W Peoria Ave...|33.581867|-112.241596|Peoria Income Tax...|true|           3|  5.0|   AZ|business|Professional Serv...|        NULL|\n|rncjoVoEFUJGCUoC1...| Peoria|8466 W Peoria Ave...|33.581867|-112.241596|Peoria Income Tax...|true|           3|  5.0|   AZ|business|        Tax Services|        NULL|\n|rncjoVoEFUJGCUoC1...| Peoria|8466 W Peoria Ave...|33.581867|-112.241596|Peoria Income Tax...|true|           3|  5.0|   AZ|business|  Financial Services|        NULL|\n|0FNFSzCFP_rGUoJx8...|Phoenix|2149 W Wood Dr\\nP...|33.604054|-112.105933|         Bike Doctor|true|           5|  5.0|   AZ|business|      Sporting Goods|        NULL|\n+--------------------+-------+--------------------+---------+-----------+--------------------+----+------------+-----+-----+--------+--------------------+------------+\nonly showing top 5 rows\n\n"
     ]
    }
   ],
   "source": [
    "\n",
    "# Flatten the business_df\n",
    "flat_business_df = business_df.select(\n",
    "    \"business_id\",\n",
    "    \"city\",\n",
    "    \"full_address\",\n",
    "    \"latitude\",\n",
    "    \"longitude\",\n",
    "    \"name\",\n",
    "    \"open\",\n",
    "    \"review_count\",\n",
    "    \"stars\",\n",
    "    \"state\",\n",
    "    \"type\",\n",
    "    explode_outer(coalesce(\"categories\", array())).alias(\"category\"),\n",
    "    explode_outer(coalesce(\"neighborhoods\", array())).alias(\"neighborhood\")\n",
    ")\n",
    "\n",
    "flat_business_df.show(5)"
   ]
  },
  {
   "cell_type": "code",
   "execution_count": 0,
   "metadata": {
    "application/vnd.databricks.v1+cell": {
     "cellMetadata": {
      "byteLimit": 2048000,
      "rowLimit": 10000
     },
     "inputWidgets": {},
     "nuid": "144f8c2a-112e-46f5-a52d-1f0ef3fd079a",
     "showTitle": false,
     "title": ""
    }
   },
   "outputs": [
    {
     "output_type": "stream",
     "name": "stdout",
     "output_type": "stream",
     "text": [
      "+-------------+---------+------------+----+--------------------+---------------+----------------+-----------------+\n|average_stars|     name|review_count|type|             user_id|user_votes_cool|user_votes_funny|user_votes_useful|\n+-------------+---------+------------+----+--------------------+---------------+----------------+-----------------+\n|          5.0|      Jim|           6|user|CR2y7yEm4X035ZMzr...|              0|               0|                7|\n|          1.0|    Kelle|           2|user|_9GXoHhdxc30ujPaQ...|              0|               0|                1|\n|          5.0|Stephanie|           2|user|8mM-nqxjg6pT04kwc...|              0|               0|                1|\n|          5.0|        T|           2|user|Ch6CdTR2IVaVANr-R...|              0|               0|                2|\n|          1.0|     Beth|           1|user|NZrLmHRyiHmyT1Jrf...|              0|               0|                0|\n+-------------+---------+------------+----+--------------------+---------------+----------------+-----------------+\nonly showing top 5 rows\n\n"
     ]
    }
   ],
   "source": [
    "## Flatten user_df\n",
    "flat_user_df = user_df.select(\n",
    "    \"average_stars\",\n",
    "    \"name\",\n",
    "    \"review_count\",\n",
    "    \"type\",\n",
    "    \"user_id\",\n",
    "    col(\"votes.cool\").alias(\"user_votes_cool\"),\n",
    "    col(\"votes.funny\").alias(\"user_votes_funny\"),\n",
    "    col(\"votes.useful\").alias(\"user_votes_useful\")\n",
    ")\n",
    "flat_user_df.show(5)"
   ]
  },
  {
   "cell_type": "code",
   "execution_count": 0,
   "metadata": {
    "application/vnd.databricks.v1+cell": {
     "cellMetadata": {
      "byteLimit": 2048000,
      "rowLimit": 10000
     },
     "inputWidgets": {},
     "nuid": "d4e131d0-e05d-4a36-bb21-fab422a48f14",
     "showTitle": false,
     "title": ""
    }
   },
   "outputs": [
    {
     "output_type": "stream",
     "name": "stdout",
     "output_type": "stream",
     "text": [
      "+--------------------+----------+--------------------+-----+--------------------+------+--------------------+----------+-----------+------------+--------------------+-------+--------------------+----------+------------+------------------+----+------------+-----+-----+--------+------------------+------------+\n|         business_id|      date|           review_id|stars|                text|  type|             user_id|votes_cool|votes_funny|votes_useful|         business_id|   city|        full_address|  latitude|   longitude|              name|open|review_count|stars|state|    type|          category|neighborhood|\n+--------------------+----------+--------------------+-----+--------------------+------+--------------------+----------+-----------+------------+--------------------+-------+--------------------+----------+------------+------------------+----+------------+-----+-----+--------+------------------+------------+\n|9yKzy9PApeiPPOUJE...|2011-01-26|fWKvX83p0-ka4JS3d...|    5|My wife took me h...|review|rLtl8ZkDX5vH5nAx9...|         2|          0|           5|9yKzy9PApeiPPOUJE...|Phoenix|6106 S 32nd St\\nP...| 33.390792| -112.012504|Morning Glory Cafe|true|         116|  4.0|   AZ|business|       Restaurants|        NULL|\n|9yKzy9PApeiPPOUJE...|2011-01-26|fWKvX83p0-ka4JS3d...|    5|My wife took me h...|review|rLtl8ZkDX5vH5nAx9...|         2|          0|           5|9yKzy9PApeiPPOUJE...|Phoenix|6106 S 32nd St\\nP...| 33.390792| -112.012504|Morning Glory Cafe|true|         116|  4.0|   AZ|business|Breakfast & Brunch|        NULL|\n|ZRJwVLyzEJq1VAihD...|2011-07-27|IjZ33sJrzXqU-0X6U...|    5|I have no idea wh...|review|0a2KyEL0d3Yb1V6ai...|         0|          0|           0|ZRJwVLyzEJq1VAihD...|Phoenix|4848 E Chandler B...|33.3056067|-111.9787576|Spinato's Pizzeria|true|         102|  4.0|   AZ|business|       Restaurants|        NULL|\n|ZRJwVLyzEJq1VAihD...|2011-07-27|IjZ33sJrzXqU-0X6U...|    5|I have no idea wh...|review|0a2KyEL0d3Yb1V6ai...|         0|          0|           0|ZRJwVLyzEJq1VAihD...|Phoenix|4848 E Chandler B...|33.3056067|-111.9787576|Spinato's Pizzeria|true|         102|  4.0|   AZ|business|             Pizza|        NULL|\n|ZRJwVLyzEJq1VAihD...|2011-07-27|IjZ33sJrzXqU-0X6U...|    5|I have no idea wh...|review|0a2KyEL0d3Yb1V6ai...|         0|          0|           0|ZRJwVLyzEJq1VAihD...|Phoenix|4848 E Chandler B...|33.3056067|-111.9787576|Spinato's Pizzeria|true|         102|  4.0|   AZ|business|           Italian|        NULL|\n+--------------------+----------+--------------------+-----+--------------------+------+--------------------+----------+-----------+------------+--------------------+-------+--------------------+----------+------------+------------------+----+------------+-----+-----+--------+------------------+------------+\nonly showing top 5 rows\n\n"
     ]
    }
   ],
   "source": [
    "# Join `flat_review_df` with `flat_business_df`\n",
    "flat_unified_df = flat_review_df.join(\n",
    "    flat_business_df, \n",
    "    flat_review_df[\"business_id\"] == flat_business_df[\"business_id\"], \n",
    "    how=\"inner\")\n",
    "flat_unified_df.show(5)"
   ]
  },
  {
   "cell_type": "code",
   "execution_count": 0,
   "metadata": {
    "application/vnd.databricks.v1+cell": {
     "cellMetadata": {
      "byteLimit": 2048000,
      "rowLimit": 10000
     },
     "inputWidgets": {},
     "nuid": "8088204b-98ac-4cbf-8767-ce32b8890a08",
     "showTitle": false,
     "title": ""
    }
   },
   "outputs": [],
   "source": [
    "#drop the duplicate columns\n",
    "flat_unified_df = flat_unified_df.drop(flat_review_df[\"business_id\"])"
   ]
  },
  {
   "cell_type": "code",
   "execution_count": 0,
   "metadata": {
    "application/vnd.databricks.v1+cell": {
     "cellMetadata": {
      "byteLimit": 2048000,
      "rowLimit": 10000
     },
     "inputWidgets": {},
     "nuid": "82358b77-16b6-4b49-9968-811782e40f82",
     "showTitle": false,
     "title": ""
    }
   },
   "outputs": [
    {
     "output_type": "stream",
     "name": "stdout",
     "output_type": "stream",
     "text": [
      "+----------+--------------------+-----+--------------------+------+--------------------+----------+-----------+------------+--------------------+----------+--------------------+----------------+-----------------+--------------------+----+------------+-----+-----+--------+-----------+------------+--------------------+----------+-----+--------------------+----+--------------------+\n|      date|           review_id|stars|                text|  type|             user_id|votes_cool|votes_funny|votes_useful|         business_id|      city|        full_address|        latitude|        longitude|                name|open|review_count|stars|state|    type|   category|neighborhood|         business_id|      date|likes|                text|type|             user_id|\n+----------+--------------------+-----+--------------------+------+--------------------+----------+-----------+------------+--------------------+----------+--------------------+----------------+-----------------+--------------------+----+------------+-----+-----+--------+-----------+------------+--------------------+----------+-----+--------------------+----+--------------------+\n|2012-06-25|MMHSY8DgB_J1sxprY...|    5|George's is nothi...|review|UrgzxV2ohsEleWOWu...|         0|          0|           0|--5jkZ3-nUPZxUvtc...|Scottsdale|1336 N Scottsdale...|33.4633733188117|-111.926908493042|George's Gyros Gr...|true|          11|  4.5|   AZ|business|Restaurants|        NULL|--5jkZ3-nUPZxUvtc...|2011-09-29|    0|Try the Greek Sam...| tip|rAfN_eXc7PvtISk2Z...|\n|2012-06-25|MMHSY8DgB_J1sxprY...|    5|George's is nothi...|review|UrgzxV2ohsEleWOWu...|         0|          0|           0|--5jkZ3-nUPZxUvtc...|Scottsdale|1336 N Scottsdale...|33.4633733188117|-111.926908493042|George's Gyros Gr...|true|          11|  4.5|   AZ|business|Restaurants|        NULL|--5jkZ3-nUPZxUvtc...|2011-11-02|    0|Fast, friendly gr...| tip|ByOxnioKRball6-8U...|\n|2012-06-25|MMHSY8DgB_J1sxprY...|    5|George's is nothi...|review|UrgzxV2ohsEleWOWu...|         0|          0|           0|--5jkZ3-nUPZxUvtc...|Scottsdale|1336 N Scottsdale...|33.4633733188117|-111.926908493042|George's Gyros Gr...|true|          11|  4.5|   AZ|business|Restaurants|        NULL|--5jkZ3-nUPZxUvtc...|2011-12-15|    0|Really sold Itali...| tip|ehhIzy0QaQ9B-V4VV...|\n|2012-06-25|MMHSY8DgB_J1sxprY...|    5|George's is nothi...|review|UrgzxV2ohsEleWOWu...|         0|          0|           0|--5jkZ3-nUPZxUvtc...|Scottsdale|1336 N Scottsdale...|33.4633733188117|-111.926908493042|George's Gyros Gr...|true|          11|  4.5|   AZ|business|Restaurants|        NULL|--5jkZ3-nUPZxUvtc...|2012-01-14|    0|Ladies, dress cut...| tip|a8gpBi7biN9VAoJwK...|\n|2012-06-25|MMHSY8DgB_J1sxprY...|    5|George's is nothi...|review|UrgzxV2ohsEleWOWu...|         0|          0|           0|--5jkZ3-nUPZxUvtc...|Scottsdale|1336 N Scottsdale...|33.4633733188117|-111.926908493042|George's Gyros Gr...|true|          11|  4.5|   AZ|business|Restaurants|        NULL|--5jkZ3-nUPZxUvtc...|2012-04-07|    0|Awesomely good fo...| tip|ke-6ePNfYkNPfICmv...|\n+----------+--------------------+-----+--------------------+------+--------------------+----------+-----------+------------+--------------------+----------+--------------------+----------------+-----------------+--------------------+----+------------+-----+-----+--------+-----------+------------+--------------------+----------+-----+--------------------+----+--------------------+\nonly showing top 5 rows\n\n"
     ]
    }
   ],
   "source": [
    "flat_unified_df = flat_unified_df.join(\n",
    "    tip_df, \n",
    "    flat_unified_df[\"business_id\"] == tip_df[\"business_id\"], \n",
    "    how=\"inner\")\n",
    "flat_unified_df.show(5)"
   ]
  },
  {
   "cell_type": "code",
   "execution_count": 0,
   "metadata": {
    "application/vnd.databricks.v1+cell": {
     "cellMetadata": {
      "byteLimit": 2048000,
      "rowLimit": 10000
     },
     "inputWidgets": {},
     "nuid": "fbbe03b4-561a-408a-9b46-6075d54e8226",
     "showTitle": false,
     "title": ""
    }
   },
   "outputs": [],
   "source": [
    "##drop the duplicate columns\n",
    "flat_unified_df = flat_unified_df.drop(flat_review_df[\"business_id\"], tip_df[\"user_id\"])"
   ]
  },
  {
   "cell_type": "code",
   "execution_count": 0,
   "metadata": {
    "application/vnd.databricks.v1+cell": {
     "cellMetadata": {
      "byteLimit": 2048000,
      "implicitDf": true,
      "rowLimit": 10000
     },
     "inputWidgets": {},
     "nuid": "c74c641b-a81c-4fac-a4d4-adde8c3726fe",
     "showTitle": false,
     "title": ""
    }
   },
   "outputs": [],
   "source": [
    "# Join `flat_unified_df` with `flat_user_df`\n",
    "flat_unified_df = flat_unified_df.join(\n",
    "    flat_user_df, \n",
    "    flat_unified_df[\"user_id\"] == flat_user_df[\"user_id\"], \n",
    "    how=\"inner\"\n",
    ")\n"
   ]
  },
  {
   "cell_type": "code",
   "execution_count": 0,
   "metadata": {
    "application/vnd.databricks.v1+cell": {
     "cellMetadata": {
      "byteLimit": 2048000,
      "rowLimit": 10000
     },
     "inputWidgets": {},
     "nuid": "f50d7515-641e-4ad3-b61a-d2c85ab262c4",
     "showTitle": false,
     "title": ""
    }
   },
   "outputs": [],
   "source": [
    "#drop the duplicate columns\n",
    "flat_unified_df = flat_unified_df.drop(flat_user_df[\"user_id\"], flat_review_df[\"date\"],flat_review_df[\"stars\"], tip_df[\"business_id\"])\n",
    "\n"
   ]
  },
  {
   "cell_type": "code",
   "execution_count": 0,
   "metadata": {
    "application/vnd.databricks.v1+cell": {
     "cellMetadata": {
      "byteLimit": 2048000,
      "rowLimit": 10000
     },
     "inputWidgets": {},
     "nuid": "62c43a68-566a-4a74-8236-16d10bf0c219",
     "showTitle": false,
     "title": ""
    }
   },
   "outputs": [],
   "source": [
    "flat_unified_df = flat_unified_df.join(\n",
    "    flat_checkin_df,\n",
    "    flat_unified_df[\"business_id\"] == flat_checkin_df[\"business_id\"],\n",
    "    how=\"inner\"\n",
    ")\n",
    "\n"
   ]
  },
  {
   "cell_type": "code",
   "execution_count": 0,
   "metadata": {
    "application/vnd.databricks.v1+cell": {
     "cellMetadata": {
      "byteLimit": 2048000,
      "rowLimit": 10000
     },
     "inputWidgets": {},
     "nuid": "2c77eb43-d2e2-4f64-80ce-f5802e3d53d2",
     "showTitle": false,
     "title": ""
    }
   },
   "outputs": [],
   "source": [
    "#drop the duplicate columns\n",
    "flat_unified_df = flat_unified_df.drop(flat_checkin_df[\"business_id\"], flat_review_df[\"type\"], flat_user_df[\"type\"], flat_review_df[\"text\"],flat_user_df[\"name\"], flat_business_df[\"review_count\"],flat_review_df[\"type\"], flat_business_df[\"type\"])"
   ]
  },
  {
   "cell_type": "code",
   "execution_count": 0,
   "metadata": {
    "application/vnd.databricks.v1+cell": {
     "cellMetadata": {
      "byteLimit": 2048000,
      "rowLimit": 10000
     },
     "inputWidgets": {},
     "nuid": "c3af5014-104e-4bb4-a292-3cb167e4103f",
     "showTitle": false,
     "title": ""
    }
   },
   "outputs": [
    {
     "output_type": "execute_result",
     "data": {
      "text/plain": [
       "True"
      ]
     },
     "execution_count": 31,
     "metadata": {},
     "output_type": "execute_result"
    }
   ],
   "source": [
    "# Create the path using dbutils.fs.mkdirs()\n",
    "dbutils.fs.mkdirs(\"dbfs:/FileStore/shared_uploads/caidanni@seattleu.edu/yelpoutput1/\")"
   ]
  },
  {
   "cell_type": "code",
   "execution_count": 0,
   "metadata": {
    "application/vnd.databricks.v1+cell": {
     "cellMetadata": {
      "byteLimit": 2048000,
      "rowLimit": 10000
     },
     "inputWidgets": {},
     "nuid": "2e58255e-28ee-40dd-9535-11ed4a81ee2a",
     "showTitle": false,
     "title": ""
    }
   },
   "outputs": [],
   "source": [
    "# Save the bronze table\n",
    "bronze_table_path = \"dbfs:/FileStore/shared_uploads/caidanni@seattleu.edu/yelpoutput1/\"\n",
    "\n",
    "#Save the DataFrame as a bronze table in Delta Lake format\n",
    "flat_unified_df.write.format(\"delta\").mode(\"overwrite\").save(bronze_table_path)\n"
   ]
  },
  {
   "cell_type": "code",
   "execution_count": 0,
   "metadata": {
    "application/vnd.databricks.v1+cell": {
     "cellMetadata": {
      "byteLimit": 2048000,
      "rowLimit": 10000
     },
     "inputWidgets": {},
     "nuid": "e63b9b1c-6c94-450f-890a-87058f4f8cc5",
     "showTitle": false,
     "title": ""
    }
   },
   "outputs": [],
   "source": [
    "#Add SCD2 columns\n",
    "from pyspark.sql.functions import current_date, lit\n",
    "\n",
    "# Define the current date\n",
    "current_date = lit(current_date())\n",
    "\n",
    "# Add SCD2 columns: valid_from, valid_to, version\n",
    "flat_unified_df = flat_unified_df.withColumn(\"valid_from\", current_date) \\\n",
    "    .withColumn(\"valid_to\", lit(\"9999-12-31\")).withColumn(\"version\", lit(1))  \n",
    "\n",
    "\n",
    "\n",
    "\n",
    "\n",
    "\n",
    "\n"
   ]
  },
  {
   "cell_type": "code",
   "execution_count": 0,
   "metadata": {
    "application/vnd.databricks.v1+cell": {
     "cellMetadata": {
      "byteLimit": 2048000,
      "rowLimit": 10000
     },
     "inputWidgets": {},
     "nuid": "0ceaaf69-57c4-4c6e-9853-79a443e50cf2",
     "showTitle": false,
     "title": ""
    }
   },
   "outputs": [
    {
     "output_type": "stream",
     "name": "stdout",
     "output_type": "stream",
     "text": [
      "+--------------------+--------------------+----------+-----------+------------+--------------------+----------+--------------------+----------------+-----------------+--------------------+----+-----+-----+-----------+------------+----------+-----+--------------------+----+-------------+------------+---------------+----------------+-----------------+----+----+----+----+----+----+----+----+----+----+----+----+----+----+----+----+----+----+----+----+----+----+----+----+----+----+----+----+----+----+----+----+----+----+----+----+----+----+----+----+----+----+----+----+----+----+----+----+----+----+----+----+----+----+----+----+----+----+----+----+----+----+----+----+----+----+----+----+----+----+----+----+----+----+----+----+----+----+----+----+----+----+----+----+----+----+----+----+----+----+----+----+----+----+----+----+----+----+----+----+----+----+----+----+----+----+----+----+----+----+----+----+----+----+----+----+----+----+----+----+----+----+----+----+----+----+----+----+----+----+----+----+----+----+----+----+----+----+----+----+----+----+----+----+----+----+----+----+----+----+----+----+----+----+----+----+----+----+----+----+----+----+----+----+----+----+----+----+----------+----------+-------+\n|           review_id|             user_id|votes_cool|votes_funny|votes_useful|         business_id|      city|        full_address|        latitude|        longitude|                name|open|stars|state|   category|neighborhood|      date|likes|                text|type|average_stars|review_count|user_votes_cool|user_votes_funny|user_votes_useful| 0-0| 0-1| 0-2| 0-3| 0-4| 0-5| 0-6| 1-0| 1-1| 1-2| 1-3| 1-4| 1-5| 1-6| 2-0| 2-1| 2-2| 2-3| 2-4| 2-5| 2-6| 3-0| 3-1| 3-2| 3-3| 3-4| 3-5| 3-6| 4-0| 4-1| 4-2| 4-3| 4-4| 4-5| 4-6| 5-0| 5-1| 5-2| 5-3| 5-4| 5-5| 5-6| 6-0| 6-1| 6-2| 6-3| 6-4| 6-5| 6-6| 7-0| 7-1| 7-2| 7-3| 7-4| 7-5| 7-6| 8-0| 8-1| 8-2| 8-3| 8-4| 8-5| 8-6| 9-0| 9-1| 9-2| 9-3| 9-4| 9-5| 9-6|10-0|10-1|10-2|10-3|10-4|10-5|10-6|11-0|11-1|11-2|11-3|11-4|11-5|11-6|12-0|12-1|12-2|12-3|12-4|12-5|12-6|13-0|13-1|13-2|13-3|13-4|13-5|13-6|14-0|14-1|14-2|14-3|14-4|14-5|14-6|15-0|15-1|15-2|15-3|15-4|15-5|15-6|16-0|16-1|16-2|16-3|16-4|16-5|16-6|17-0|17-1|17-2|17-3|17-4|17-5|17-6|18-0|18-1|18-2|18-3|18-4|18-5|18-6|19-0|19-1|19-2|19-3|19-4|19-5|19-6|20-0|20-1|20-2|20-3|20-4|20-5|20-6|21-0|21-1|21-2|21-3|21-4|21-5|21-6|22-0|22-1|22-2|22-3|22-4|22-5|22-6|23-0|23-1|23-2|23-3|23-4|23-5|23-6|valid_from|  valid_to|version|\n+--------------------+--------------------+----------+-----------+------------+--------------------+----------+--------------------+----------------+-----------------+--------------------+----+-----+-----+-----------+------------+----------+-----+--------------------+----+-------------+------------+---------------+----------------+-----------------+----+----+----+----+----+----+----+----+----+----+----+----+----+----+----+----+----+----+----+----+----+----+----+----+----+----+----+----+----+----+----+----+----+----+----+----+----+----+----+----+----+----+----+----+----+----+----+----+----+----+----+----+----+----+----+----+----+----+----+----+----+----+----+----+----+----+----+----+----+----+----+----+----+----+----+----+----+----+----+----+----+----+----+----+----+----+----+----+----+----+----+----+----+----+----+----+----+----+----+----+----+----+----+----+----+----+----+----+----+----+----+----+----+----+----+----+----+----+----+----+----+----+----+----+----+----+----+----+----+----+----+----+----+----+----+----+----+----+----+----+----+----+----+----+----+----+----+----+----+----+----+----+----+----+----+----+----+----+----+----+----+----+----+----+----+----+----+----+----------+----------+-------+\n|MMHSY8DgB_J1sxprY...|UrgzxV2ohsEleWOWu...|         0|          0|           0|--5jkZ3-nUPZxUvtc...|Scottsdale|1336 N Scottsdale...|33.4633733188117|-111.926908493042|George's Gyros Gr...|true|  4.5|   AZ|Restaurants|        NULL|2011-09-29|    0|Try the Greek Sam...| tip|         2.75|           4|              1|               0|                3|NULL|NULL|NULL|NULL|NULL|NULL|NULL|NULL|NULL|NULL|NULL|NULL|NULL|NULL|NULL|NULL|NULL|NULL|NULL|NULL|NULL|NULL|NULL|NULL|NULL|NULL|NULL|NULL|NULL|NULL|NULL|NULL|NULL|NULL|NULL|NULL|NULL|NULL|NULL|NULL|NULL|NULL|NULL|NULL|NULL|NULL|NULL|NULL|NULL|NULL|NULL|NULL|NULL|NULL|NULL|NULL|NULL|NULL|NULL|NULL|NULL|NULL|NULL|NULL|NULL|NULL|NULL|NULL|NULL|NULL|   1|NULL|NULL|   2|NULL|NULL|NULL|   1|   4|   2|   5|   3|NULL|NULL|   1|NULL|   4|   1|   1|   4|NULL|   1|   1|NULL|NULL|NULL|NULL|NULL|   1|NULL|   1|NULL|NULL|NULL|NULL|   1|NULL|   4|   2|   2|   4|NULL|   1|NULL|   1|NULL|NULL|NULL|NULL|   1|NULL|NULL|NULL|NULL|NULL|NULL|   1|   6|   3|   3|   2|   2|NULL|NULL|   6|   3|   2|   3|NULL|NULL|   1|NULL|   1|   1|NULL|   1|NULL|NULL|NULL|NULL|NULL|NULL|NULL|NULL|NULL|NULL|NULL|NULL|NULL|NULL|NULL|NULL|NULL|NULL|NULL|NULL|NULL|NULL|2024-04-22|9999-12-31|      1|\n|MMHSY8DgB_J1sxprY...|UrgzxV2ohsEleWOWu...|         0|          0|           0|--5jkZ3-nUPZxUvtc...|Scottsdale|1336 N Scottsdale...|33.4633733188117|-111.926908493042|George's Gyros Gr...|true|  4.5|   AZ|Restaurants|        NULL|2011-11-02|    0|Fast, friendly gr...| tip|         2.75|           4|              1|               0|                3|NULL|NULL|NULL|NULL|NULL|NULL|NULL|NULL|NULL|NULL|NULL|NULL|NULL|NULL|NULL|NULL|NULL|NULL|NULL|NULL|NULL|NULL|NULL|NULL|NULL|NULL|NULL|NULL|NULL|NULL|NULL|NULL|NULL|NULL|NULL|NULL|NULL|NULL|NULL|NULL|NULL|NULL|NULL|NULL|NULL|NULL|NULL|NULL|NULL|NULL|NULL|NULL|NULL|NULL|NULL|NULL|NULL|NULL|NULL|NULL|NULL|NULL|NULL|NULL|NULL|NULL|NULL|NULL|NULL|NULL|   1|NULL|NULL|   2|NULL|NULL|NULL|   1|   4|   2|   5|   3|NULL|NULL|   1|NULL|   4|   1|   1|   4|NULL|   1|   1|NULL|NULL|NULL|NULL|NULL|   1|NULL|   1|NULL|NULL|NULL|NULL|   1|NULL|   4|   2|   2|   4|NULL|   1|NULL|   1|NULL|NULL|NULL|NULL|   1|NULL|NULL|NULL|NULL|NULL|NULL|   1|   6|   3|   3|   2|   2|NULL|NULL|   6|   3|   2|   3|NULL|NULL|   1|NULL|   1|   1|NULL|   1|NULL|NULL|NULL|NULL|NULL|NULL|NULL|NULL|NULL|NULL|NULL|NULL|NULL|NULL|NULL|NULL|NULL|NULL|NULL|NULL|NULL|NULL|2024-04-22|9999-12-31|      1|\n|MMHSY8DgB_J1sxprY...|UrgzxV2ohsEleWOWu...|         0|          0|           0|--5jkZ3-nUPZxUvtc...|Scottsdale|1336 N Scottsdale...|33.4633733188117|-111.926908493042|George's Gyros Gr...|true|  4.5|   AZ|Restaurants|        NULL|2011-12-15|    0|Really sold Itali...| tip|         2.75|           4|              1|               0|                3|NULL|NULL|NULL|NULL|NULL|NULL|NULL|NULL|NULL|NULL|NULL|NULL|NULL|NULL|NULL|NULL|NULL|NULL|NULL|NULL|NULL|NULL|NULL|NULL|NULL|NULL|NULL|NULL|NULL|NULL|NULL|NULL|NULL|NULL|NULL|NULL|NULL|NULL|NULL|NULL|NULL|NULL|NULL|NULL|NULL|NULL|NULL|NULL|NULL|NULL|NULL|NULL|NULL|NULL|NULL|NULL|NULL|NULL|NULL|NULL|NULL|NULL|NULL|NULL|NULL|NULL|NULL|NULL|NULL|NULL|   1|NULL|NULL|   2|NULL|NULL|NULL|   1|   4|   2|   5|   3|NULL|NULL|   1|NULL|   4|   1|   1|   4|NULL|   1|   1|NULL|NULL|NULL|NULL|NULL|   1|NULL|   1|NULL|NULL|NULL|NULL|   1|NULL|   4|   2|   2|   4|NULL|   1|NULL|   1|NULL|NULL|NULL|NULL|   1|NULL|NULL|NULL|NULL|NULL|NULL|   1|   6|   3|   3|   2|   2|NULL|NULL|   6|   3|   2|   3|NULL|NULL|   1|NULL|   1|   1|NULL|   1|NULL|NULL|NULL|NULL|NULL|NULL|NULL|NULL|NULL|NULL|NULL|NULL|NULL|NULL|NULL|NULL|NULL|NULL|NULL|NULL|NULL|NULL|2024-04-22|9999-12-31|      1|\n|MMHSY8DgB_J1sxprY...|UrgzxV2ohsEleWOWu...|         0|          0|           0|--5jkZ3-nUPZxUvtc...|Scottsdale|1336 N Scottsdale...|33.4633733188117|-111.926908493042|George's Gyros Gr...|true|  4.5|   AZ|Restaurants|        NULL|2012-01-14|    0|Ladies, dress cut...| tip|         2.75|           4|              1|               0|                3|NULL|NULL|NULL|NULL|NULL|NULL|NULL|NULL|NULL|NULL|NULL|NULL|NULL|NULL|NULL|NULL|NULL|NULL|NULL|NULL|NULL|NULL|NULL|NULL|NULL|NULL|NULL|NULL|NULL|NULL|NULL|NULL|NULL|NULL|NULL|NULL|NULL|NULL|NULL|NULL|NULL|NULL|NULL|NULL|NULL|NULL|NULL|NULL|NULL|NULL|NULL|NULL|NULL|NULL|NULL|NULL|NULL|NULL|NULL|NULL|NULL|NULL|NULL|NULL|NULL|NULL|NULL|NULL|NULL|NULL|   1|NULL|NULL|   2|NULL|NULL|NULL|   1|   4|   2|   5|   3|NULL|NULL|   1|NULL|   4|   1|   1|   4|NULL|   1|   1|NULL|NULL|NULL|NULL|NULL|   1|NULL|   1|NULL|NULL|NULL|NULL|   1|NULL|   4|   2|   2|   4|NULL|   1|NULL|   1|NULL|NULL|NULL|NULL|   1|NULL|NULL|NULL|NULL|NULL|NULL|   1|   6|   3|   3|   2|   2|NULL|NULL|   6|   3|   2|   3|NULL|NULL|   1|NULL|   1|   1|NULL|   1|NULL|NULL|NULL|NULL|NULL|NULL|NULL|NULL|NULL|NULL|NULL|NULL|NULL|NULL|NULL|NULL|NULL|NULL|NULL|NULL|NULL|NULL|2024-04-22|9999-12-31|      1|\n|MMHSY8DgB_J1sxprY...|UrgzxV2ohsEleWOWu...|         0|          0|           0|--5jkZ3-nUPZxUvtc...|Scottsdale|1336 N Scottsdale...|33.4633733188117|-111.926908493042|George's Gyros Gr...|true|  4.5|   AZ|Restaurants|        NULL|2012-04-07|    0|Awesomely good fo...| tip|         2.75|           4|              1|               0|                3|NULL|NULL|NULL|NULL|NULL|NULL|NULL|NULL|NULL|NULL|NULL|NULL|NULL|NULL|NULL|NULL|NULL|NULL|NULL|NULL|NULL|NULL|NULL|NULL|NULL|NULL|NULL|NULL|NULL|NULL|NULL|NULL|NULL|NULL|NULL|NULL|NULL|NULL|NULL|NULL|NULL|NULL|NULL|NULL|NULL|NULL|NULL|NULL|NULL|NULL|NULL|NULL|NULL|NULL|NULL|NULL|NULL|NULL|NULL|NULL|NULL|NULL|NULL|NULL|NULL|NULL|NULL|NULL|NULL|NULL|   1|NULL|NULL|   2|NULL|NULL|NULL|   1|   4|   2|   5|   3|NULL|NULL|   1|NULL|   4|   1|   1|   4|NULL|   1|   1|NULL|NULL|NULL|NULL|NULL|   1|NULL|   1|NULL|NULL|NULL|NULL|   1|NULL|   4|   2|   2|   4|NULL|   1|NULL|   1|NULL|NULL|NULL|NULL|   1|NULL|NULL|NULL|NULL|NULL|NULL|   1|   6|   3|   3|   2|   2|NULL|NULL|   6|   3|   2|   3|NULL|NULL|   1|NULL|   1|   1|NULL|   1|NULL|NULL|NULL|NULL|NULL|NULL|NULL|NULL|NULL|NULL|NULL|NULL|NULL|NULL|NULL|NULL|NULL|NULL|NULL|NULL|NULL|NULL|2024-04-22|9999-12-31|      1|\n+--------------------+--------------------+----------+-----------+------------+--------------------+----------+--------------------+----------------+-----------------+--------------------+----+-----+-----+-----------+------------+----------+-----+--------------------+----+-------------+------------+---------------+----------------+-----------------+----+----+----+----+----+----+----+----+----+----+----+----+----+----+----+----+----+----+----+----+----+----+----+----+----+----+----+----+----+----+----+----+----+----+----+----+----+----+----+----+----+----+----+----+----+----+----+----+----+----+----+----+----+----+----+----+----+----+----+----+----+----+----+----+----+----+----+----+----+----+----+----+----+----+----+----+----+----+----+----+----+----+----+----+----+----+----+----+----+----+----+----+----+----+----+----+----+----+----+----+----+----+----+----+----+----+----+----+----+----+----+----+----+----+----+----+----+----+----+----+----+----+----+----+----+----+----+----+----+----+----+----+----+----+----+----+----+----+----+----+----+----+----+----+----+----+----+----+----+----+----+----+----+----+----+----+----+----+----+----+----+----+----+----+----+----+----+----+----------+----------+-------+\nonly showing top 5 rows\n\n"
     ]
    }
   ],
   "source": [
    "# Show the updated DataFrame schema\n",
    "flat_unified_df.show(5)"
   ]
  },
  {
   "cell_type": "code",
   "execution_count": 0,
   "metadata": {
    "application/vnd.databricks.v1+cell": {
     "cellMetadata": {
      "byteLimit": 2048000,
      "rowLimit": 10000
     },
     "inputWidgets": {},
     "nuid": "0a5c0272-c1b9-4102-a763-c24ca6f0585e",
     "showTitle": false,
     "title": ""
    }
   },
   "outputs": [],
   "source": [
    "#Convert to Delta Lake\n",
    "flat_unified_df.write.format(\"delta\").mode(\"overwrite\").save(\"dbfs:/FileStore/shared_uploads/caidanni@seattleu.edu/yelpoutput2/\")\n"
   ]
  },
  {
   "cell_type": "code",
   "execution_count": 0,
   "metadata": {
    "application/vnd.databricks.v1+cell": {
     "cellMetadata": {
      "byteLimit": 2048000,
      "rowLimit": 10000
     },
     "inputWidgets": {},
     "nuid": "d5a3466e-0108-4b43-be81-95cd9d94d181",
     "showTitle": false,
     "title": ""
    }
   },
   "outputs": [
    {
     "output_type": "stream",
     "name": "stdout",
     "output_type": "stream",
     "text": [
      "+--------------------+-----+\n|         business_id|count|\n+--------------------+-----+\n|LzpR_jE6VIutJ08s2...|10824|\n|3H2ttTM2aSIaZ6FTj...| 1200|\n|5ambRqdTJt9vGwFzV...|85280|\n|peA3F-PnIfijYr8Hu...|15725|\n|27hfvE5DcOY3J1-MW...|  240|\n|aBjWR-Mol58GMsRAd...| 2016|\n|EzAen1_nwVuiWPKBj...| 2800|\n|w2PHq5wfGuqWmHAru...|   96|\n|CO8UjN6WXsDJqo5qJ...|  288|\n|s_cKw6m0Fw9jZbobR...| 1170|\n|d4GSh1BalxvQCU7zL...|  144|\n|U2C1t0sqK_3hMFEs6...|   88|\n|T2xiF9kMc_WRH0GeK...|   40|\n|Lc3-XLmobyijQpOxH...|  448|\n|VfzUmXIgowYKutptf...|   40|\n|NX5YHSIyesufcsI7R...| 1914|\n|4JbQSLiRKQudjDn9f...|   45|\n|nHxi4UjqWOLRidFNn...|  560|\n|YowLDN2YEKVJpHv0L...|  306|\n|pQH9UvH3a87GoH-sd...|   90|\n+--------------------+-----+\nonly showing top 20 rows\n\n"
     ]
    }
   ],
   "source": [
    "#How many reviews are there for each business?\n",
    "#group by business_id and count\n",
    "business_review_count = flat_unified_df.groupBy(\"business_id\").count()\n",
    "#print the result\n",
    "business_review_count.show()"
   ]
  },
  {
   "cell_type": "code",
   "execution_count": 0,
   "metadata": {
    "application/vnd.databricks.v1+cell": {
     "cellMetadata": {
      "byteLimit": 2048000,
      "rowLimit": 10000
     },
     "inputWidgets": {},
     "nuid": "ecf90c3a-aef8-4fb6-bd1c-35a810e28280",
     "showTitle": false,
     "title": ""
    }
   },
   "outputs": [
    {
     "output_type": "stream",
     "name": "stdout",
     "output_type": "stream",
     "text": [
      "+-----+--------------+\n|state|num_businesses|\n+-----+--------------+\n|   AZ|          7432|\n+-----+--------------+\n\n+------------+--------------+\n|        city|num_businesses|\n+------------+--------------+\n|       Tempe|           780|\n|Fountain Hls|             2|\n|     Phoenix|          2708|\n|   Ahwatukee|             2|\n|  Scottsdale|          1309|\n+------------+--------------+\nonly showing top 5 rows\n\n"
     ]
    }
   ],
   "source": [
    "#How many businesses take place in each state and city? What kind of business do they have the most in each state, in each city?\n",
    "# Group by state and city, count the number of businesses, and find the most common category\n",
    "state_business_count = flat_unified_df.groupBy(\"state\").agg(F.countDistinct(\"business_id\").alias(\"num_businesses\"))\n",
    "state_business_count.show(5)\n",
    "city_business_count = flat_unified_df.groupBy(\"city\").agg(F.countDistinct(\"business_id\").alias(\"num_businesses\"))\n",
    "city_business_count.show(5)\n"
   ]
  },
  {
   "cell_type": "code",
   "execution_count": 0,
   "metadata": {
    "application/vnd.databricks.v1+cell": {
     "cellMetadata": {
      "byteLimit": 2048000,
      "rowLimit": 10000
     },
     "inputWidgets": {},
     "nuid": "1c19e1e9-7c1b-473e-9218-90535bcb9174",
     "showTitle": false,
     "title": ""
    }
   },
   "outputs": [
    {
     "output_type": "stream",
     "name": "stdout",
     "output_type": "stream",
     "text": [
      "+-----+--------------+--------------+----+\n|state|      category|category_count|rank|\n+-----+--------------+--------------+----+\n|   AZ|   Restaurants|       9970993|   1|\n|   AZ|American (New)|       2632116|   2|\n|   AZ|     Nightlife|       2552078|   3|\n|   AZ|          Bars|       2397120|   4|\n|   AZ|          Food|       2045160|   5|\n+-----+--------------+--------------+----+\nonly showing top 5 rows\n\n+-----+-----------+--------------+----+\n|state|   category|category_count|rank|\n+-----+-----------+--------------+----+\n|   AZ|Restaurants|       9970993|   1|\n+-----+-----------+--------------+----+\n\n"
     ]
    }
   ],
   "source": [
    "\n",
    "grouped_df = flat_unified_df.groupBy(\"state\", \"category\").agg(count(\"*\").alias(\"category_count\"))\n",
    "\n",
    "# Define a window specification to rank categories within each state\n",
    "window_spec = Window.partitionBy(\"state\").orderBy(col(\"category_count\").desc())\n",
    "\n",
    "# Rank categories within each state based on category count\n",
    "ranked_df = grouped_df.withColumn(\"rank\", rank().over(window_spec))\n",
    "ranked_df.show(5)#show the first 5 rank\n",
    "# Filter to keep only the most common category for each state\n",
    "most_common_category_df = ranked_df.filter(col(\"rank\") == 1)\n",
    "\n",
    "# Show the result\n",
    "most_common_category_df.show()\n",
    "\n"
   ]
  },
  {
   "cell_type": "code",
   "execution_count": 0,
   "metadata": {
    "application/vnd.databricks.v1+cell": {
     "cellMetadata": {
      "byteLimit": 2048000,
      "rowLimit": 10000
     },
     "inputWidgets": {},
     "nuid": "4225dc7b-06ab-4491-92b7-af77abaa8c75",
     "showTitle": false,
     "title": ""
    }
   },
   "outputs": [
    {
     "output_type": "stream",
     "name": "stdout",
     "output_type": "stream",
     "text": [
      "+-----------+--------+\n|review_hour|   count|\n+-----------+--------+\n|          0|41960577|\n+-----------+--------+\n\n"
     ]
    }
   ],
   "source": [
    "#What time do people usually write reviews?\n",
    "from pyspark.sql.functions import hour\n",
    "\n",
    "# Extract the hour component from the date column\n",
    "reviews_df_with_hour = flat_unified_df.withColumn(\"review_hour\", hour(\"date\"))\n",
    "\n",
    "# Aggregate by hour and count the number of reviews\n",
    "review_count_by_hour = reviews_df_with_hour.groupBy(\"review_hour\").count().orderBy(\"review_hour\")\n",
    "\n",
    "# Show the distribution of review times\n",
    "review_count_by_hour.show()"
   ]
  }
 ],
 "metadata": {
  "application/vnd.databricks.v1+notebook": {
   "dashboards": [],
   "language": "python",
   "notebookMetadata": {
    "mostRecentlyExecutedCommandWithImplicitDF": {
     "commandId": -1,
     "dataframes": [
      "_sqldf"
     ]
    },
    "pythonIndentUnit": 4
   },
   "notebookName": "yelp project",
   "widgets": {}
  }
 },
 "nbformat": 4,
 "nbformat_minor": 0
}
